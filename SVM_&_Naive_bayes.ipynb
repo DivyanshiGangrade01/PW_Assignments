{
  "nbformat": 4,
  "nbformat_minor": 0,
  "metadata": {
    "colab": {
      "provenance": [],
      "toc_visible": true,
      "authorship_tag": "ABX9TyPv2UeCTj+y5JhoQn+eqOqk",
      "include_colab_link": true
    },
    "kernelspec": {
      "name": "python3",
      "display_name": "Python 3"
    },
    "language_info": {
      "name": "python"
    }
  },
  "cells": [
    {
      "cell_type": "markdown",
      "metadata": {
        "id": "view-in-github",
        "colab_type": "text"
      },
      "source": [
        "<a href=\"https://colab.research.google.com/github/DivyanshiGangrade01/PW_Assignments/blob/main/SVM_%26_Naive_bayes.ipynb\" target=\"_parent\"><img src=\"https://colab.research.google.com/assets/colab-badge.svg\" alt=\"Open In Colab\"/></a>"
      ]
    },
    {
      "cell_type": "code",
      "execution_count": null,
      "metadata": {
        "id": "_AHIElOh5hNR"
      },
      "outputs": [],
      "source": []
    },
    {
      "cell_type": "markdown",
      "source": [
        "Q.1 What is a Support Vector Machine (SVM)4 ?\n",
        "ans A Support Vector Machine (SVM) is a supervised machine learning algorithm used for classification, regression, and outlier detection tasks. It is particularly effective for binary classification problems.\n",
        "\n"
      ],
      "metadata": {
        "id": "hnWAZE3D5mR-"
      }
    },
    {
      "cell_type": "code",
      "source": [],
      "metadata": {
        "id": "CnP7z0BR5nim"
      },
      "execution_count": null,
      "outputs": []
    }
  ]
}